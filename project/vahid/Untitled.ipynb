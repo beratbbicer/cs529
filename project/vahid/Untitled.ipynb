{
 "cells": [
  {
   "cell_type": "code",
   "execution_count": 7,
   "id": "d91c9a0d",
   "metadata": {},
   "outputs": [
    {
     "data": {
      "text/plain": [
       "'Done!'"
      ]
     },
     "metadata": {},
     "output_type": "display_data"
    }
   ],
   "source": [
    "\n",
    "import pandas as pd\n",
    "import csv\n",
    "\n",
    "pd_object = pd.read_json(\"C:\\\\Users\\\\NAS\\\\Desktop\\\\Data\\\\Twibot-20\\\\train.json\", typ='series')\n",
    "df = pd.DataFrame(pd_object)\n",
    "# display(df)\n",
    "# display(df[0][0].keys())\n",
    "# display(df[0][0]['ID'])\n",
    "# display(df[0][0]['profile'])\n",
    "# #display(df[0][0]['tweet'])\n",
    "#display(df[0][1]['neighbor'])\n",
    "# display(df[0][0]['domain'])\n",
    "# display(df[0][0]['label'])\n",
    "\n",
    "data_file = open('data_file5.csv', 'w', newline='')\n",
    "csv_writer = csv.writer(data_file)\n",
    "header = [\"ID\", \"followers_count\",\"friends_count\",\"listed_count\",\"favourites_count\",\"label\"]\n",
    "csv_writer.writerow(header)\n",
    "for i in range(len(df[0])):    \n",
    "    row = [str(df[0][i]['ID']),df[0][i]['profile']['followers_count'],df[0][i]['profile']['friends_count'],df[0][i]['profile']['listed_count'],df[0][i]['profile']['favourites_count'],df[0][i]['label']]\n",
    "    csv_writer.writerow(row)\n",
    "    \n",
    "data_file.close()\n",
    "display(\"Done!\")\n",
    "\n",
    "        \n",
    "\n",
    "\n",
    "# for item in df[0]:\n",
    "#     if item['neighbor'] != None:\n",
    "#         if item['neighbor']['following'] != None:\n",
    "#             display(item['neighbor']['following'])\n",
    "#         if item['neighbor']['follower'] != None:\n",
    "#             display(item['neighbor']['follower'])\n"
   ]
  },
  {
   "cell_type": "code",
   "execution_count": 13,
   "id": "d7c52aef",
   "metadata": {},
   "outputs": [
    {
     "name": "stdout",
     "output_type": "stream",
     "text": [
      "10\n",
      "10\n"
     ]
    }
   ],
   "source": [
    "MaxFollowing = 0\n",
    "for item in df[0]:\n",
    "    if item['neighbor'] != None:\n",
    "        a = len(item['neighbor']['following'])\n",
    "        if a > MaxFollowing:\n",
    "            MaxFollowing = a\n",
    "print(MaxFollowing)\n",
    "\n",
    "MaxFollower = 0\n",
    "for item in df[0]:\n",
    "    if item['neighbor'] != None:\n",
    "        a = len(item['neighbor']['following'])\n",
    "        if a > MaxFollower:\n",
    "            MaxFollower = a\n",
    "print(MaxFollower)"
   ]
  },
  {
   "cell_type": "code",
   "execution_count": 4,
   "id": "b80b04d4",
   "metadata": {},
   "outputs": [
    {
     "name": "stdout",
     "output_type": "stream",
     "text": [
      "8278\n"
     ]
    }
   ],
   "source": [
    "import numpy as np\n",
    "import pandas as pd\n",
    "\n",
    "pd_object = pd.read_json(\"C:\\\\Users\\\\NAS\\\\Desktop\\\\Data\\\\Twibot-20\\\\train.json\", typ='series')\n",
    "df = pd.DataFrame(pd_object)\n",
    "n = len(df[0])\n",
    "adjArray = np.zeros((n,n))\n",
    "\n",
    "for i in range(n):\n",
    "    \n",
    "    "
   ]
  },
  {
   "cell_type": "code",
   "execution_count": 4,
   "id": "4dcf67d5",
   "metadata": {},
   "outputs": [
    {
     "name": "stdout",
     "output_type": "stream",
     "text": [
      "17461978\n",
      "1297437077403885568\n",
      "17685258\n",
      "15750898\n",
      "1659167666\n"
     ]
    }
   ],
   "source": [
    "import json\n",
    "\n",
    "\n",
    "subset = []\n",
    "\n",
    "with open(\"C:\\\\Users\\\\NAS\\\\Desktop\\\\Data\\\\Twibot-20\\\\train.json\", 'r') as f:\n",
    "    data = json.load(f)\n",
    "k = 0\n",
    "for entry in data:\n",
    "    if k < 5:\n",
    "        subset.append(entry)\n",
    "    k += 1\n",
    "\n",
    "for entry in subset:\n",
    "    print(entry['ID'])\n",
    "\n",
    "with open(\"C:\\\\Users\\\\NAS\\\\Desktop\\\\Data\\\\Twibot-20\\\\subset.json\", 'w') as f:\n",
    "    f.write(json.dumps(subset))"
   ]
  },
  {
   "cell_type": "code",
   "execution_count": 6,
   "id": "8f4b9794",
   "metadata": {},
   "outputs": [
    {
     "name": "stdout",
     "output_type": "stream",
     "text": [
      "17461978\n",
      "1297437077403885568\n",
      "17685258\n",
      "15750898\n",
      "1659167666\n"
     ]
    }
   ],
   "source": [
    "with open(\"C:\\\\Users\\\\NAS\\\\Desktop\\\\Data\\\\Twibot-20\\\\subset.json\", 'r') as f:\n",
    "    subdata = json.load(f)\n",
    "\n",
    "for entry in subdata:\n",
    "    print(entry['ID'])"
   ]
  },
  {
   "cell_type": "code",
   "execution_count": null,
   "id": "225a953a",
   "metadata": {},
   "outputs": [],
   "source": []
  }
 ],
 "metadata": {
  "kernelspec": {
   "display_name": "Python 3",
   "language": "python",
   "name": "python3"
  },
  "language_info": {
   "codemirror_mode": {
    "name": "ipython",
    "version": 3
   },
   "file_extension": ".py",
   "mimetype": "text/x-python",
   "name": "python",
   "nbconvert_exporter": "python",
   "pygments_lexer": "ipython3",
   "version": "3.8.8"
  }
 },
 "nbformat": 4,
 "nbformat_minor": 5
}
